{
  "nbformat": 4,
  "nbformat_minor": 0,
  "metadata": {
    "colab": {
      "provenance": [],
      "authorship_tag": "ABX9TyOHKTdQ7dslomZt7giw/2MS",
      "include_colab_link": true
    },
    "kernelspec": {
      "name": "python3",
      "display_name": "Python 3"
    },
    "language_info": {
      "name": "python"
    },
    "accelerator": "TPU"
  },
  "cells": [
    {
      "cell_type": "markdown",
      "metadata": {
        "id": "view-in-github",
        "colab_type": "text"
      },
      "source": [
        "<a href=\"https://colab.research.google.com/github/soroushdty/ann_learning/blob/main/MNIST_ANN.ipynb\" target=\"_parent\"><img src=\"https://colab.research.google.com/assets/colab-badge.svg\" alt=\"Open In Colab\"/></a>"
      ]
    },
    {
      "cell_type": "markdown",
      "source": [
        "A simple neural network with one dense layer that achieved 92.7% accuracy in classification of MNIST dataset"
      ],
      "metadata": {
        "id": "H9y7Ix4Unc3y"
      }
    },
    {
      "cell_type": "code",
      "source": [
        "# imports\n",
        "import tensorflow as tf\n",
        "import numpy as np\n",
        "from tensorflow import keras"
      ],
      "metadata": {
        "id": "hq68Dx84a-oi"
      },
      "execution_count": null,
      "outputs": []
    },
    {
      "cell_type": "code",
      "source": [
        "# load dataset\n",
        "mnist = keras.datasets.mnist\n",
        "(X_train, Y_train), (X_test, Y_test) = mnist.load_data()\n",
        "print('X_train shape: ', X_train.shape)\n",
        "print('Y_train shape: ', Y_train.shape)\n",
        "print('X_test shape: ', X_test.shape)\n",
        "print('Y_test shape: ', Y_test.shape)"
      ],
      "metadata": {
        "colab": {
          "base_uri": "https://localhost:8080/"
        },
        "id": "YQV-HQe2bX38",
        "outputId": "e16146c9-b7f3-4882-c912-e6a13fa0799b"
      },
      "execution_count": null,
      "outputs": [
        {
          "output_type": "stream",
          "name": "stdout",
          "text": [
            "Downloading data from https://storage.googleapis.com/tensorflow/tf-keras-datasets/mnist.npz\n",
            "11490434/11490434 [==============================] - 0s 0us/step\n",
            "X_train shape:  (60000, 28, 28)\n",
            "Y_train shape:  (60000,)\n",
            "X_test shape:  (10000, 28, 28)\n",
            "Y_test shape:  (10000,)\n"
          ]
        }
      ]
    },
    {
      "cell_type": "code",
      "source": [
        "# preprocessing\n",
        "\n",
        "# reshape\n",
        "X_train = X_train.reshape(X_train.shape[0],-1)\n",
        "X_test = X_test.reshape(X_test.shape[0],-1)\n",
        "\n",
        "# typecasting\n",
        "X_train = X_train.astype('float32')\n",
        "X_test = X_test.astype('float32')\n",
        "\n",
        "# normalize\n",
        "X_train /= np.max(X_train)\n",
        "X_test /= np.max(X_test)\n",
        "\n",
        "# one-hot encoding\n",
        "Y_train = keras.utils.to_categorical(Y_train,num_classes=10)\n",
        "Y_test = keras.utils.to_categorical(Y_test,num_classes=10)\n",
        "\n",
        "# results\n",
        "print('X_train shape: ', X_train.shape)\n",
        "print('Y_train shape: ', Y_train.shape)\n",
        "print('X_test shape: ', X_test.shape)\n",
        "print('Y_test shape: ', Y_test.shape)"
      ],
      "metadata": {
        "colab": {
          "base_uri": "https://localhost:8080/"
        },
        "id": "q87fo6nvd2YS",
        "outputId": "0fa49be5-ed07-4a4d-e275-2e0bb611d7ba"
      },
      "execution_count": null,
      "outputs": [
        {
          "output_type": "stream",
          "name": "stdout",
          "text": [
            "X_train shape:  (60000, 784)\n",
            "Y_train shape:  (60000, 10)\n",
            "X_test shape:  (10000, 784)\n",
            "Y_test shape:  (10000, 10)\n"
          ]
        }
      ]
    },
    {
      "cell_type": "code",
      "source": [
        "# building the model with 1 dense layers\n",
        "model = keras.models.Sequential()\n",
        "model.add(keras.Input(shape=(X_train.shape[1],)))\n",
        "model.add(keras.layers.Dense(units=10,\n",
        "                             name='denseL1',\n",
        "                             activation='softmax'))\n",
        "\n",
        "# compile the model\n",
        "model.compile(optimizer='rmsprop',\n",
        "              loss='categorical_crossentropy',\n",
        "              metrics=['accuracy'])"
      ],
      "metadata": {
        "id": "V28wkfKWgf26"
      },
      "execution_count": null,
      "outputs": []
    },
    {
      "cell_type": "code",
      "source": [
        "# train model\n",
        "model.fit(X_train,Y_train,\n",
        "          batch_size=128, epochs=50,\n",
        "verbose=1, validation_split=0.2)\n",
        "\n",
        "# Evaluating the model.\n",
        "test_loss, test_acc = model.evaluate(X_test, Y_test)\n",
        "print('Test accuracy:', test_acc)"
      ],
      "metadata": {
        "id": "MB3hBW-UlaDm",
        "colab": {
          "base_uri": "https://localhost:8080/"
        },
        "outputId": "5be6ef9a-e2de-4816-e4d5-9d996dd5f52b"
      },
      "execution_count": null,
      "outputs": [
        {
          "output_type": "stream",
          "name": "stdout",
          "text": [
            "Epoch 1/50\n",
            "375/375 [==============================] - 3s 5ms/step - loss: 0.6645 - accuracy: 0.8377 - val_loss: 0.3592 - val_accuracy: 0.9041\n",
            "Epoch 2/50\n",
            "375/375 [==============================] - 3s 8ms/step - loss: 0.3541 - accuracy: 0.9022 - val_loss: 0.3087 - val_accuracy: 0.9145\n",
            "Epoch 3/50\n",
            "375/375 [==============================] - 3s 7ms/step - loss: 0.3183 - accuracy: 0.9119 - val_loss: 0.2963 - val_accuracy: 0.9168\n",
            "Epoch 4/50\n",
            "375/375 [==============================] - 1s 4ms/step - loss: 0.3021 - accuracy: 0.9157 - val_loss: 0.2825 - val_accuracy: 0.9220\n",
            "Epoch 5/50\n",
            "375/375 [==============================] - 1s 4ms/step - loss: 0.2923 - accuracy: 0.9181 - val_loss: 0.2794 - val_accuracy: 0.9220\n",
            "Epoch 6/50\n",
            "375/375 [==============================] - 1s 3ms/step - loss: 0.2859 - accuracy: 0.9199 - val_loss: 0.2738 - val_accuracy: 0.9243\n",
            "Epoch 7/50\n",
            "375/375 [==============================] - 2s 5ms/step - loss: 0.2809 - accuracy: 0.9215 - val_loss: 0.2711 - val_accuracy: 0.9255\n",
            "Epoch 8/50\n",
            "375/375 [==============================] - 1s 3ms/step - loss: 0.2768 - accuracy: 0.9232 - val_loss: 0.2703 - val_accuracy: 0.9263\n",
            "Epoch 9/50\n",
            "375/375 [==============================] - 1s 4ms/step - loss: 0.2741 - accuracy: 0.9241 - val_loss: 0.2681 - val_accuracy: 0.9273\n",
            "Epoch 10/50\n",
            "375/375 [==============================] - 1s 3ms/step - loss: 0.2711 - accuracy: 0.9249 - val_loss: 0.2666 - val_accuracy: 0.9292\n",
            "Epoch 11/50\n",
            "375/375 [==============================] - 2s 5ms/step - loss: 0.2685 - accuracy: 0.9255 - val_loss: 0.2668 - val_accuracy: 0.9280\n",
            "Epoch 12/50\n",
            "375/375 [==============================] - 2s 4ms/step - loss: 0.2668 - accuracy: 0.9265 - val_loss: 0.2656 - val_accuracy: 0.9285\n",
            "Epoch 13/50\n",
            "375/375 [==============================] - 2s 4ms/step - loss: 0.2651 - accuracy: 0.9267 - val_loss: 0.2643 - val_accuracy: 0.9290\n",
            "Epoch 14/50\n",
            "375/375 [==============================] - 2s 4ms/step - loss: 0.2633 - accuracy: 0.9273 - val_loss: 0.2639 - val_accuracy: 0.9280\n",
            "Epoch 15/50\n",
            "375/375 [==============================] - 1s 3ms/step - loss: 0.2615 - accuracy: 0.9286 - val_loss: 0.2632 - val_accuracy: 0.9292\n",
            "Epoch 16/50\n",
            "375/375 [==============================] - 1s 3ms/step - loss: 0.2607 - accuracy: 0.9287 - val_loss: 0.2639 - val_accuracy: 0.9287\n",
            "Epoch 17/50\n",
            "375/375 [==============================] - 1s 3ms/step - loss: 0.2595 - accuracy: 0.9284 - val_loss: 0.2638 - val_accuracy: 0.9300\n",
            "Epoch 18/50\n",
            "375/375 [==============================] - 1s 3ms/step - loss: 0.2583 - accuracy: 0.9291 - val_loss: 0.2647 - val_accuracy: 0.9298\n",
            "Epoch 19/50\n",
            "375/375 [==============================] - 1s 3ms/step - loss: 0.2572 - accuracy: 0.9295 - val_loss: 0.2628 - val_accuracy: 0.9305\n",
            "Epoch 20/50\n",
            "375/375 [==============================] - 1s 3ms/step - loss: 0.2565 - accuracy: 0.9297 - val_loss: 0.2624 - val_accuracy: 0.9304\n",
            "Epoch 21/50\n",
            "375/375 [==============================] - 1s 3ms/step - loss: 0.2557 - accuracy: 0.9301 - val_loss: 0.2626 - val_accuracy: 0.9300\n",
            "Epoch 22/50\n",
            "375/375 [==============================] - 1s 3ms/step - loss: 0.2544 - accuracy: 0.9303 - val_loss: 0.2622 - val_accuracy: 0.9299\n",
            "Epoch 23/50\n",
            "375/375 [==============================] - 1s 3ms/step - loss: 0.2538 - accuracy: 0.9303 - val_loss: 0.2626 - val_accuracy: 0.9303\n",
            "Epoch 24/50\n",
            "375/375 [==============================] - 1s 3ms/step - loss: 0.2530 - accuracy: 0.9312 - val_loss: 0.2611 - val_accuracy: 0.9306\n",
            "Epoch 25/50\n",
            "375/375 [==============================] - 1s 4ms/step - loss: 0.2525 - accuracy: 0.9310 - val_loss: 0.2631 - val_accuracy: 0.9291\n",
            "Epoch 26/50\n",
            "375/375 [==============================] - 2s 4ms/step - loss: 0.2518 - accuracy: 0.9316 - val_loss: 0.2626 - val_accuracy: 0.9299\n",
            "Epoch 27/50\n",
            "375/375 [==============================] - 2s 4ms/step - loss: 0.2512 - accuracy: 0.9313 - val_loss: 0.2647 - val_accuracy: 0.9304\n",
            "Epoch 28/50\n",
            "375/375 [==============================] - 2s 4ms/step - loss: 0.2507 - accuracy: 0.9318 - val_loss: 0.2620 - val_accuracy: 0.9312\n",
            "Epoch 29/50\n",
            "375/375 [==============================] - 1s 3ms/step - loss: 0.2499 - accuracy: 0.9319 - val_loss: 0.2635 - val_accuracy: 0.9306\n",
            "Epoch 30/50\n",
            "375/375 [==============================] - 1s 3ms/step - loss: 0.2496 - accuracy: 0.9317 - val_loss: 0.2627 - val_accuracy: 0.9307\n",
            "Epoch 31/50\n",
            "375/375 [==============================] - 1s 3ms/step - loss: 0.2492 - accuracy: 0.9321 - val_loss: 0.2622 - val_accuracy: 0.9310\n",
            "Epoch 32/50\n",
            "375/375 [==============================] - 1s 3ms/step - loss: 0.2482 - accuracy: 0.9327 - val_loss: 0.2635 - val_accuracy: 0.9303\n",
            "Epoch 33/50\n",
            "375/375 [==============================] - 1s 3ms/step - loss: 0.2481 - accuracy: 0.9325 - val_loss: 0.2630 - val_accuracy: 0.9308\n",
            "Epoch 34/50\n",
            "375/375 [==============================] - 1s 3ms/step - loss: 0.2474 - accuracy: 0.9327 - val_loss: 0.2626 - val_accuracy: 0.9303\n",
            "Epoch 35/50\n",
            "375/375 [==============================] - 1s 3ms/step - loss: 0.2473 - accuracy: 0.9330 - val_loss: 0.2636 - val_accuracy: 0.9303\n",
            "Epoch 36/50\n",
            "375/375 [==============================] - 1s 3ms/step - loss: 0.2467 - accuracy: 0.9330 - val_loss: 0.2620 - val_accuracy: 0.9312\n",
            "Epoch 37/50\n",
            "375/375 [==============================] - 1s 3ms/step - loss: 0.2462 - accuracy: 0.9325 - val_loss: 0.2639 - val_accuracy: 0.9304\n",
            "Epoch 38/50\n",
            "375/375 [==============================] - 1s 3ms/step - loss: 0.2456 - accuracy: 0.9331 - val_loss: 0.2655 - val_accuracy: 0.9312\n",
            "Epoch 39/50\n",
            "375/375 [==============================] - 2s 5ms/step - loss: 0.2455 - accuracy: 0.9332 - val_loss: 0.2640 - val_accuracy: 0.9309\n",
            "Epoch 40/50\n",
            "375/375 [==============================] - 2s 4ms/step - loss: 0.2448 - accuracy: 0.9332 - val_loss: 0.2631 - val_accuracy: 0.9303\n",
            "Epoch 41/50\n",
            "375/375 [==============================] - 2s 4ms/step - loss: 0.2446 - accuracy: 0.9335 - val_loss: 0.2630 - val_accuracy: 0.9317\n",
            "Epoch 42/50\n",
            "375/375 [==============================] - 2s 4ms/step - loss: 0.2443 - accuracy: 0.9338 - val_loss: 0.2644 - val_accuracy: 0.9293\n",
            "Epoch 43/50\n",
            "375/375 [==============================] - 1s 3ms/step - loss: 0.2439 - accuracy: 0.9338 - val_loss: 0.2642 - val_accuracy: 0.9308\n",
            "Epoch 44/50\n",
            "375/375 [==============================] - 1s 3ms/step - loss: 0.2439 - accuracy: 0.9340 - val_loss: 0.2629 - val_accuracy: 0.9304\n",
            "Epoch 45/50\n",
            "375/375 [==============================] - 1s 3ms/step - loss: 0.2434 - accuracy: 0.9340 - val_loss: 0.2636 - val_accuracy: 0.9309\n",
            "Epoch 46/50\n",
            "375/375 [==============================] - 1s 3ms/step - loss: 0.2430 - accuracy: 0.9340 - val_loss: 0.2639 - val_accuracy: 0.9307\n",
            "Epoch 47/50\n",
            "375/375 [==============================] - 1s 3ms/step - loss: 0.2427 - accuracy: 0.9340 - val_loss: 0.2647 - val_accuracy: 0.9298\n",
            "Epoch 48/50\n",
            "375/375 [==============================] - 1s 3ms/step - loss: 0.2426 - accuracy: 0.9345 - val_loss: 0.2667 - val_accuracy: 0.9296\n",
            "Epoch 49/50\n",
            "375/375 [==============================] - 1s 3ms/step - loss: 0.2422 - accuracy: 0.9340 - val_loss: 0.2642 - val_accuracy: 0.9303\n",
            "Epoch 50/50\n",
            "375/375 [==============================] - 1s 3ms/step - loss: 0.2418 - accuracy: 0.9346 - val_loss: 0.2659 - val_accuracy: 0.9291\n",
            "313/313 [==============================] - 1s 2ms/step - loss: 0.2704 - accuracy: 0.9271\n",
            "Test accuracy: 0.9271000027656555\n"
          ]
        }
      ]
    }
  ]
}