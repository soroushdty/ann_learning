{
  "nbformat": 4,
  "nbformat_minor": 0,
  "metadata": {
    "colab": {
      "provenance": [],
      "authorship_tag": "ABX9TyNbP/uyBTjSerWYiSWwYvwP",
      "include_colab_link": true
    },
    "kernelspec": {
      "name": "python3",
      "display_name": "Python 3"
    },
    "language_info": {
      "name": "python"
    },
    "accelerator": "TPU"
  },
  "cells": [
    {
      "cell_type": "markdown",
      "metadata": {
        "id": "view-in-github",
        "colab_type": "text"
      },
      "source": [
        "<a href=\"https://colab.research.google.com/github/soroushdty/ann_learning/blob/main/fashion_mnist_mlp.ipynb\" target=\"_parent\"><img src=\"https://colab.research.google.com/assets/colab-badge.svg\" alt=\"Open In Colab\"/></a>"
      ]
    },
    {
      "cell_type": "markdown",
      "source": [
        "multi-layer perceptron trained on fashion_mnist dataset with 88.4% accuracy on test set"
      ],
      "metadata": {
        "id": "iYhtl-zboxbB"
      }
    },
    {
      "cell_type": "code",
      "execution_count": null,
      "metadata": {
        "id": "muOfNTPA3P3I"
      },
      "outputs": [],
      "source": [
        "# Import necessary modules\n",
        "\n",
        "import tensorflow as tf\n",
        "import numpy as np\n",
        "from tensorflow.keras.datasets import fashion_mnist"
      ]
    },
    {
      "cell_type": "code",
      "source": [
        "# Load fashion_mnist dataset\n",
        "(train_X, train_Y), (test_X, test_Y) = fashion_mnist.load_data()\n",
        "\n",
        "print('Shape train_X: ', train_X.shape)\n",
        "print('Shape train_Y: ', train_Y.shape)\n",
        "print('Shape test_X: ', test_X.shape)\n",
        "print('Shape test_Y: ', test_Y.shape)"
      ],
      "metadata": {
        "colab": {
          "base_uri": "https://localhost:8080/"
        },
        "id": "eySBixsB4ev_",
        "outputId": "1753368a-f610-4353-b6e6-5d5cfd9ec67a"
      },
      "execution_count": null,
      "outputs": [
        {
          "output_type": "stream",
          "name": "stdout",
          "text": [
            "Shape train_X:  (60000, 28, 28)\n",
            "Shape train_Y:  (60000,)\n",
            "Shape test_X:  (10000, 28, 28)\n",
            "Shape test_Y:  (10000,)\n"
          ]
        }
      ]
    },
    {
      "cell_type": "code",
      "source": [
        "# Preprocessing\n",
        "\n",
        "# Normalize\n",
        "train_X = train_X / 255\n",
        "test_X  = test_X /255\n",
        "\n",
        "# Reshape\n",
        "train_X = train_X.reshape(60000,-1)\n",
        "test_X = test_X.reshape(10000,-1)"
      ],
      "metadata": {
        "id": "fjSLU24o7D-L"
      },
      "execution_count": null,
      "outputs": []
    },
    {
      "cell_type": "code",
      "source": [
        "# Create model\n",
        "model = tf.keras.models.Sequential()\n",
        "model.add(tf.keras.layers.Dense(units=128,\n",
        "                                name='input_layer',\n",
        "                                activation='relu',\n",
        "                                bias_initializer='RandomNormal',\n",
        "                                input_shape=(train_X.shape[-1],)))\n",
        "model.add(tf.keras.layers.Dense(units=128,\n",
        "                                name='hidden_layer_1',\n",
        "                                activation='relu',\n",
        "                                bias_initializer='RandomNormal'))\n",
        "model.add(tf.keras.layers.Dropout(0.2, name='dropout_layer'))\n",
        "model.add(tf.keras.layers.Dense(units=128,\n",
        "                                name='hidden_layer_2',\n",
        "                                activation='relu',\n",
        "                                bias_initializer='RandomNormal'))\n",
        "model.add(tf.keras.layers.Dense(units=10,\n",
        "                                name='output_layer',\n",
        "                                activation='softmax'))"
      ],
      "metadata": {
        "id": "qcJfEIJIACMA"
      },
      "execution_count": null,
      "outputs": []
    },
    {
      "cell_type": "code",
      "source": [
        "# Compile model\n",
        "model.compile(optimizer='adam',\n",
        "              loss='sparse_categorical_crossentropy',\n",
        "              metrics=['sparse_categorical_accuracy'])\n",
        "\n",
        "model.summary()"
      ],
      "metadata": {
        "colab": {
          "base_uri": "https://localhost:8080/"
        },
        "id": "Xz525-QrCx5b",
        "outputId": "439fb0ab-a42d-4154-f82b-7509178896f7"
      },
      "execution_count": null,
      "outputs": [
        {
          "output_type": "stream",
          "name": "stdout",
          "text": [
            "Model: \"sequential_5\"\n",
            "_________________________________________________________________\n",
            " Layer (type)                Output Shape              Param #   \n",
            "=================================================================\n",
            " input_layer (Dense)         (None, 128)               100480    \n",
            "                                                                 \n",
            " hidden_layer_1 (Dense)      (None, 128)               16512     \n",
            "                                                                 \n",
            " dropout_layer (Dropout)     (None, 128)               0         \n",
            "                                                                 \n",
            " hidden_layer_2 (Dense)      (None, 128)               16512     \n",
            "                                                                 \n",
            " output_layer (Dense)        (None, 10)                1290      \n",
            "                                                                 \n",
            "=================================================================\n",
            "Total params: 134,794\n",
            "Trainable params: 134,794\n",
            "Non-trainable params: 0\n",
            "_________________________________________________________________\n"
          ]
        }
      ]
    },
    {
      "cell_type": "code",
      "source": [
        "# Fit model\n",
        "model.fit(train_X, train_Y,\n",
        "          batch_size=20,\n",
        "          epochs=25,\n",
        "          verbose=1,\n",
        "          validation_split=0.2)"
      ],
      "metadata": {
        "colab": {
          "base_uri": "https://localhost:8080/"
        },
        "id": "G4ToVT42EWAq",
        "outputId": "6c14ea33-dff3-49a0-cc43-c90cc857ca19"
      },
      "execution_count": null,
      "outputs": [
        {
          "output_type": "stream",
          "name": "stdout",
          "text": [
            "Epoch 1/25\n",
            "2400/2400 [==============================] - 15s 6ms/step - loss: 0.0845 - sparse_categorical_accuracy: 0.9685 - val_loss: 0.6208 - val_sparse_categorical_accuracy: 0.8890\n",
            "Epoch 2/25\n",
            "2400/2400 [==============================] - 14s 6ms/step - loss: 0.0951 - sparse_categorical_accuracy: 0.9669 - val_loss: 0.5867 - val_sparse_categorical_accuracy: 0.8929\n",
            "Epoch 3/25\n",
            "2400/2400 [==============================] - 13s 6ms/step - loss: 0.0903 - sparse_categorical_accuracy: 0.9682 - val_loss: 0.6453 - val_sparse_categorical_accuracy: 0.8894\n",
            "Epoch 4/25\n",
            "2400/2400 [==============================] - 15s 6ms/step - loss: 0.0949 - sparse_categorical_accuracy: 0.9666 - val_loss: 0.6176 - val_sparse_categorical_accuracy: 0.8911\n",
            "Epoch 5/25\n",
            "2400/2400 [==============================] - 15s 6ms/step - loss: 0.0930 - sparse_categorical_accuracy: 0.9674 - val_loss: 0.5842 - val_sparse_categorical_accuracy: 0.8936\n",
            "Epoch 6/25\n",
            "2400/2400 [==============================] - 15s 6ms/step - loss: 0.0942 - sparse_categorical_accuracy: 0.9671 - val_loss: 0.5502 - val_sparse_categorical_accuracy: 0.8921\n",
            "Epoch 7/25\n",
            "2400/2400 [==============================] - 15s 6ms/step - loss: 0.0855 - sparse_categorical_accuracy: 0.9697 - val_loss: 0.6045 - val_sparse_categorical_accuracy: 0.8952\n",
            "Epoch 8/25\n",
            "2400/2400 [==============================] - 14s 6ms/step - loss: 0.0892 - sparse_categorical_accuracy: 0.9683 - val_loss: 0.6426 - val_sparse_categorical_accuracy: 0.8874\n",
            "Epoch 9/25\n",
            "2400/2400 [==============================] - 14s 6ms/step - loss: 0.0872 - sparse_categorical_accuracy: 0.9691 - val_loss: 0.6624 - val_sparse_categorical_accuracy: 0.8920\n",
            "Epoch 10/25\n",
            "2400/2400 [==============================] - 13s 6ms/step - loss: 0.0928 - sparse_categorical_accuracy: 0.9676 - val_loss: 0.6284 - val_sparse_categorical_accuracy: 0.8893\n",
            "Epoch 11/25\n",
            "2400/2400 [==============================] - 15s 6ms/step - loss: 0.0915 - sparse_categorical_accuracy: 0.9678 - val_loss: 0.6231 - val_sparse_categorical_accuracy: 0.8867\n",
            "Epoch 12/25\n",
            "2400/2400 [==============================] - 15s 6ms/step - loss: 0.0862 - sparse_categorical_accuracy: 0.9695 - val_loss: 0.5993 - val_sparse_categorical_accuracy: 0.8896\n",
            "Epoch 13/25\n",
            "2400/2400 [==============================] - 14s 6ms/step - loss: 0.0884 - sparse_categorical_accuracy: 0.9696 - val_loss: 0.6263 - val_sparse_categorical_accuracy: 0.8947\n",
            "Epoch 14/25\n",
            "2400/2400 [==============================] - 14s 6ms/step - loss: 0.0903 - sparse_categorical_accuracy: 0.9678 - val_loss: 0.6281 - val_sparse_categorical_accuracy: 0.8896\n",
            "Epoch 15/25\n",
            "2400/2400 [==============================] - 13s 5ms/step - loss: 0.0872 - sparse_categorical_accuracy: 0.9696 - val_loss: 0.6871 - val_sparse_categorical_accuracy: 0.8897\n",
            "Epoch 16/25\n",
            "2400/2400 [==============================] - 14s 6ms/step - loss: 0.0886 - sparse_categorical_accuracy: 0.9686 - val_loss: 0.6364 - val_sparse_categorical_accuracy: 0.8979\n",
            "Epoch 17/25\n",
            "2400/2400 [==============================] - 14s 6ms/step - loss: 0.0839 - sparse_categorical_accuracy: 0.9703 - val_loss: 0.6173 - val_sparse_categorical_accuracy: 0.8947\n",
            "Epoch 18/25\n",
            "2400/2400 [==============================] - 15s 6ms/step - loss: 0.0902 - sparse_categorical_accuracy: 0.9677 - val_loss: 0.6050 - val_sparse_categorical_accuracy: 0.8921\n",
            "Epoch 19/25\n",
            "2400/2400 [==============================] - 16s 7ms/step - loss: 0.0882 - sparse_categorical_accuracy: 0.9697 - val_loss: 0.6421 - val_sparse_categorical_accuracy: 0.8908\n",
            "Epoch 20/25\n",
            "2400/2400 [==============================] - 15s 6ms/step - loss: 0.0799 - sparse_categorical_accuracy: 0.9723 - val_loss: 0.6784 - val_sparse_categorical_accuracy: 0.8902\n",
            "Epoch 21/25\n",
            "2400/2400 [==============================] - 13s 6ms/step - loss: 0.0868 - sparse_categorical_accuracy: 0.9696 - val_loss: 0.6364 - val_sparse_categorical_accuracy: 0.8908\n",
            "Epoch 22/25\n",
            "2400/2400 [==============================] - 13s 6ms/step - loss: 0.0872 - sparse_categorical_accuracy: 0.9693 - val_loss: 0.7055 - val_sparse_categorical_accuracy: 0.8853\n",
            "Epoch 23/25\n",
            "2400/2400 [==============================] - 15s 6ms/step - loss: 0.0850 - sparse_categorical_accuracy: 0.9715 - val_loss: 0.6644 - val_sparse_categorical_accuracy: 0.8927\n",
            "Epoch 24/25\n",
            "2400/2400 [==============================] - 14s 6ms/step - loss: 0.0837 - sparse_categorical_accuracy: 0.9706 - val_loss: 0.6835 - val_sparse_categorical_accuracy: 0.8857\n",
            "Epoch 25/25\n",
            "2400/2400 [==============================] - 15s 6ms/step - loss: 0.0843 - sparse_categorical_accuracy: 0.9703 - val_loss: 0.6724 - val_sparse_categorical_accuracy: 0.8932\n"
          ]
        },
        {
          "output_type": "execute_result",
          "data": {
            "text/plain": [
              "<keras.callbacks.History at 0x7f59df0fa6b0>"
            ]
          },
          "metadata": {},
          "execution_count": 30
        }
      ]
    },
    {
      "cell_type": "code",
      "source": [
        "# Evaluate model\n",
        "test_loss, test_accuracy = model.evaluate(test_X, test_Y)\n",
        "print('Test accuracy: ', test_accuracy)"
      ],
      "metadata": {
        "colab": {
          "base_uri": "https://localhost:8080/"
        },
        "id": "4T3JORT0FqDl",
        "outputId": "5b3750d5-d9b8-4871-9a90-eca607e91783"
      },
      "execution_count": null,
      "outputs": [
        {
          "output_type": "stream",
          "name": "stdout",
          "text": [
            "313/313 [==============================] - 1s 2ms/step - loss: 0.7440 - sparse_categorical_accuracy: 0.8845\n",
            "Test accuracy:  0.8845000267028809\n"
          ]
        }
      ]
    }
  ]
}